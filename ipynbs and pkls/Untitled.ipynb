{
 "cells": [
  {
   "cell_type": "code",
   "execution_count": 1,
   "metadata": {
    "ExecuteTime": {
     "end_time": "2020-07-14T04:49:50.803532Z",
     "start_time": "2020-07-14T04:49:50.144933Z"
    }
   },
   "outputs": [],
   "source": [
    "import re\n",
    "import csv\n",
    "import requests\n",
    "import time, os\n",
    "import itertools\n",
    "\n",
    "from collections import defaultdict\n",
    "from bs4 import BeautifulSoup\n",
    "from selenium import webdriver\n",
    "from selenium.webdriver.common.keys import Keys"
   ]
  },
  {
   "cell_type": "code",
   "execution_count": 163,
   "metadata": {
    "ExecuteTime": {
     "end_time": "2020-07-14T18:58:39.050614Z",
     "start_time": "2020-07-14T18:58:38.961288Z"
    }
   },
   "outputs": [
    {
     "data": {
      "text/plain": [
       "'https://countryeconomy.com/taxes/tax-revenue'"
      ]
     },
     "execution_count": 163,
     "metadata": {},
     "output_type": "execute_result"
    }
   ],
   "source": [
    "#countryeconomy.com tax revenues\n",
    "countries = ['ecuador', 'tunisia', 'serbia', 'panama', 'papua-new-guinea']\n",
    "url = 'https://countryeconomy.com/taxes/tax-revenue'\n",
    "url\n"
   ]
  },
  {
   "cell_type": "code",
   "execution_count": 219,
   "metadata": {
    "ExecuteTime": {
     "end_time": "2020-07-14T19:31:19.262154Z",
     "start_time": "2020-07-14T19:30:57.392646Z"
    }
   },
   "outputs": [],
   "source": [
    "#1 \n",
    "chromedriver = \"/Applications/chromedriver\" # path to the chromedriver executable\n",
    "os.environ[\"webdriver.chrome.driver\"] = chromedriver\n",
    "\n",
    "url = 'https://countryeconomy.com/taxes/tax-revenue'\n",
    "\n",
    "driver = webdriver.Chrome()\n",
    "driver.get(url)\n",
    "\n",
    "#2 \n",
    "time.sleep(7)\n",
    "accept_button = driver.find_element_by_xpath('//div/button[@class=\"qc-cmp-button\"]').click()\n",
    "time.sleep(3)\n",
    "close_ad = driver.find_element_by_xpath('//div/div[@class=\"closeButton\"]').click()\n",
    "pick_country = driver.find_element_by_xpath('//tr/td/a[@href=\"/taxes/tax-revenue/{}\"]'.format(countries[1])).click()"
   ]
  },
  {
   "cell_type": "code",
   "execution_count": 220,
   "metadata": {
    "ExecuteTime": {
     "end_time": "2020-07-14T19:31:24.673446Z",
     "start_time": "2020-07-14T19:31:23.421969Z"
    }
   },
   "outputs": [],
   "source": [
    "soup = BeautifulSoup(driver.page_source, 'lxml')\n",
    "data_table = soup.find('table')"
   ]
  },
  {
   "cell_type": "code",
   "execution_count": 221,
   "metadata": {
    "ExecuteTime": {
     "end_time": "2020-07-14T19:31:27.701512Z",
     "start_time": "2020-07-14T19:31:27.435562Z"
    }
   },
   "outputs": [
    {
     "data": {
      "text/plain": [
       "[defaultdict(None, {'Date': '2017', 'Tax Revenue (%GDP)': '31.2%'}),\n",
       " defaultdict(None, {'Date': '2016', 'Tax Revenue (%GDP)': '29.6%'}),\n",
       " defaultdict(None, {'Date': '2015', 'Tax Revenue (%GDP)': '30.3%'}),\n",
       " defaultdict(None, {'Date': '2014', 'Tax Revenue (%GDP)': '30.9%'}),\n",
       " defaultdict(None, {'Date': '2013', 'Tax Revenue (%GDP)': '29.8%'}),\n",
       " defaultdict(None, {'Date': '2012', 'Tax Revenue (%GDP)': '29.1%'}),\n",
       " defaultdict(None, {'Date': '2011', 'Tax Revenue (%GDP)': '29.1%'}),\n",
       " defaultdict(None, {'Date': '2010', 'Tax Revenue (%GDP)': '27.2%'}),\n",
       " defaultdict(None, {'Date': '2009', 'Tax Revenue (%GDP)': '26.8%'}),\n",
       " defaultdict(None, {'Date': '2008', 'Tax Revenue (%GDP)': '26.8%'}),\n",
       " defaultdict(None, {'Date': '2007', 'Tax Revenue (%GDP)': '25.2%'}),\n",
       " defaultdict(None, {'Date': '2006', 'Tax Revenue (%GDP)': '24.4%'}),\n",
       " defaultdict(None, {'Date': '2005', 'Tax Revenue (%GDP)': '24.2%'}),\n",
       " defaultdict(None, {'Date': '2004', 'Tax Revenue (%GDP)': '24.1%'}),\n",
       " defaultdict(None, {'Date': '2003', 'Tax Revenue (%GDP)': '24.2%'}),\n",
       " defaultdict(None, {'Date': '2002', 'Tax Revenue (%GDP)': '24.8%'}),\n",
       " defaultdict(None, {'Date': '2001', 'Tax Revenue (%GDP)': '24.8%'}),\n",
       " defaultdict(None, {'Date': '2000', 'Tax Revenue (%GDP)': '24.4%'})]"
      ]
     },
     "execution_count": 221,
     "metadata": {},
     "output_type": "execute_result"
    }
   ],
   "source": [
    "data = []\n",
    "\n",
    "header_row = data_table.find_all('th')\n",
    "header = [header_row[0].text, header_row[-1].text]\n",
    "rows = [row for row in data_table.find_all('tr')][1:]\n",
    "\n",
    "for row in rows:\n",
    "    row_data = defaultdict()\n",
    "    for i in [0, -1]:\n",
    "        row_data[header[i]] = row.find_all('td')[i].text\n",
    "    data.append(row_data)\n",
    "\n",
    "driver.close()\n",
    "data"
   ]
  },
  {
   "cell_type": "code",
   "execution_count": 222,
   "metadata": {
    "ExecuteTime": {
     "end_time": "2020-07-14T19:31:34.495620Z",
     "start_time": "2020-07-14T19:31:34.486718Z"
    }
   },
   "outputs": [],
   "source": [
    "write(countries[1], data)"
   ]
  },
  {
   "cell_type": "code",
   "execution_count": null,
   "metadata": {},
   "outputs": [],
   "source": []
  },
  {
   "cell_type": "code",
   "execution_count": null,
   "metadata": {},
   "outputs": [],
   "source": []
  },
  {
   "cell_type": "code",
   "execution_count": null,
   "metadata": {},
   "outputs": [],
   "source": []
  },
  {
   "cell_type": "code",
   "execution_count": null,
   "metadata": {},
   "outputs": [],
   "source": []
  },
  {
   "cell_type": "code",
   "execution_count": 125,
   "metadata": {
    "ExecuteTime": {
     "end_time": "2020-07-14T17:41:02.946968Z",
     "start_time": "2020-07-14T17:41:00.026550Z"
    }
   },
   "outputs": [],
   "source": [
    "soup = BeautifulSoup(driver.page_source, 'lxml')\n",
    "close_popup = driver.find_element_by_xpath('//div/div[@class=\"closeButton\"]').click()"
   ]
  },
  {
   "cell_type": "markdown",
   "metadata": {
    "ExecuteTime": {
     "end_time": "2020-07-14T17:25:02.539508Z",
     "start_time": "2020-07-14T17:24:59.641048Z"
    }
   },
   "source": [
    "soup = BeautifulSoup(driver.page_source, 'lxml')\n",
    "tax_rev_button = driver.find_element_by_xpath('//h4/a[@href=\"/taxes/tax-revenue\"]').click()"
   ]
  },
  {
   "cell_type": "code",
   "execution_count": 138,
   "metadata": {
    "ExecuteTime": {
     "end_time": "2020-07-14T17:48:06.086712Z",
     "start_time": "2020-07-14T17:48:05.686362Z"
    }
   },
   "outputs": [],
   "source": [
    "soup = BeautifulSoup(driver.page_source, 'lxml')\n",
    "close_ad = driver.find_element_by_xpath('//div/div[@class=\"closeButton\"]').click()"
   ]
  },
  {
   "cell_type": "code",
   "execution_count": 127,
   "metadata": {
    "ExecuteTime": {
     "end_time": "2020-07-14T17:41:38.616840Z",
     "start_time": "2020-07-14T17:41:37.533248Z"
    }
   },
   "outputs": [],
   "source": [
    "#3 \n",
    "soup = BeautifulSoup(driver.page_source, 'lxml')\n",
    "\n",
    "close_popup = driver.find_element_by_xpath('//div/button/span[@aria-hidden=\"true\"]').click()"
   ]
  },
  {
   "cell_type": "markdown",
   "metadata": {
    "ExecuteTime": {
     "end_time": "2020-07-14T17:24:41.165228Z",
     "start_time": "2020-07-14T17:24:40.813497Z"
    }
   },
   "source": [
    "soup = BeautifulSoup(driver.page_source, 'lxml')\n",
    "close_popup = driver.find_element_by_xpath('//div/div[@class=\"closeButton\"]').click()"
   ]
  },
  {
   "cell_type": "code",
   "execution_count": 139,
   "metadata": {
    "ExecuteTime": {
     "end_time": "2020-07-14T17:48:23.945660Z",
     "start_time": "2020-07-14T17:48:23.256181Z"
    }
   },
   "outputs": [],
   "source": [
    "#2 \n",
    "\n",
    "close_ad = driver.find_element_by_xpath('//div/div[@class=\"closeButton\"]').click()\n",
    "pick_country = driver.find_element_by_xpath('//tr/td/a[@href=\"/taxes/tax-revenue/{}\"]'.format(countries[0])).click()"
   ]
  },
  {
   "cell_type": "code",
   "execution_count": 140,
   "metadata": {
    "ExecuteTime": {
     "end_time": "2020-07-14T17:48:32.309136Z",
     "start_time": "2020-07-14T17:48:31.969319Z"
    }
   },
   "outputs": [],
   "source": [
    "soup = BeautifulSoup(driver.page_source, 'lxml')\n",
    "data_table = soup.find('table')"
   ]
  },
  {
   "cell_type": "code",
   "execution_count": 141,
   "metadata": {
    "ExecuteTime": {
     "end_time": "2020-07-14T17:48:33.154728Z",
     "start_time": "2020-07-14T17:48:33.104000Z"
    }
   },
   "outputs": [
    {
     "data": {
      "text/plain": [
       "[defaultdict(None, {'Date': '2018', 'Tax Revenue (%GDP)': '20.6%'}),\n",
       " defaultdict(None, {'Date': '2017', 'Tax Revenue (%GDP)': '19.9%'}),\n",
       " defaultdict(None, {'Date': '2016', 'Tax Revenue (%GDP)': '19.9%'}),\n",
       " defaultdict(None, {'Date': '2015', 'Tax Revenue (%GDP)': '21.3%'}),\n",
       " defaultdict(None, {'Date': '2014', 'Tax Revenue (%GDP)': '19.2%'}),\n",
       " defaultdict(None, {'Date': '2013', 'Tax Revenue (%GDP)': '19.5%'}),\n",
       " defaultdict(None, {'Date': '2012', 'Tax Revenue (%GDP)': '19.7%'}),\n",
       " defaultdict(None, {'Date': '2011', 'Tax Revenue (%GDP)': '17.6%'}),\n",
       " defaultdict(None, {'Date': '2010', 'Tax Revenue (%GDP)': '16.0%'}),\n",
       " defaultdict(None, {'Date': '2009', 'Tax Revenue (%GDP)': '15.7%'}),\n",
       " defaultdict(None, {'Date': '2008', 'Tax Revenue (%GDP)': '14.9%'}),\n",
       " defaultdict(None, {'Date': '2007', 'Tax Revenue (%GDP)': '15.1%'}),\n",
       " defaultdict(None, {'Date': '2006', 'Tax Revenue (%GDP)': '14.5%'}),\n",
       " defaultdict(None, {'Date': '2005', 'Tax Revenue (%GDP)': '13.7%'}),\n",
       " defaultdict(None, {'Date': '2004', 'Tax Revenue (%GDP)': '13.2%'}),\n",
       " defaultdict(None, {'Date': '2003', 'Tax Revenue (%GDP)': '13.2%'}),\n",
       " defaultdict(None, {'Date': '2002', 'Tax Revenue (%GDP)': '13.9%'}),\n",
       " defaultdict(None, {'Date': '2001', 'Tax Revenue (%GDP)': '13.1%'}),\n",
       " defaultdict(None, {'Date': '2000', 'Tax Revenue (%GDP)': '11.6%'}),\n",
       " defaultdict(None, {'Date': '1999', 'Tax Revenue (%GDP)': '9.8%'}),\n",
       " defaultdict(None, {'Date': '1998', 'Tax Revenue (%GDP)': '9.2%'}),\n",
       " defaultdict(None, {'Date': '1997', 'Tax Revenue (%GDP)': '8.2%'}),\n",
       " defaultdict(None, {'Date': '1996', 'Tax Revenue (%GDP)': '7.4%'}),\n",
       " defaultdict(None, {'Date': '1995', 'Tax Revenue (%GDP)': '8.1%'}),\n",
       " defaultdict(None, {'Date': '1994', 'Tax Revenue (%GDP)': '7.8%'}),\n",
       " defaultdict(None, {'Date': '1993', 'Tax Revenue (%GDP)': '7.5%'}),\n",
       " defaultdict(None, {'Date': '1992', 'Tax Revenue (%GDP)': '7.0%'}),\n",
       " defaultdict(None, {'Date': '1991', 'Tax Revenue (%GDP)': '7.2%'}),\n",
       " defaultdict(None, {'Date': '1990', 'Tax Revenue (%GDP)': '7.1%'})]"
      ]
     },
     "execution_count": 141,
     "metadata": {},
     "output_type": "execute_result"
    }
   ],
   "source": [
    "data = []\n",
    "\n",
    "header_row = data_table.find_all('th')\n",
    "header = [header_row[0].text, header_row[-1].text]\n",
    "rows = [row for row in data_table.find_all('tr')][1:]\n",
    "\n",
    "for row in rows:\n",
    "    row_data = defaultdict()\n",
    "    for i in [0, -1]:\n",
    "        row_data[header[i]] = row.find_all('td')[i].text\n",
    "    data.append(row_data)\n",
    "\n",
    "driver.close()\n",
    "\n",
    "def write(countries):\n",
    "    data = scrape(countries)\n",
    "    \n",
    "    with open('Tax_rev_data_plus.csv', 'w+', newline='') as write_obj:\n",
    "        # create writer object\n",
    "        dict_writer = csv.DictWriter(write_obj, fieldnames = ['Date', 'Tax Revenue (%GDP)'])\n",
    "        dict_writer.writeheader()\n",
    "        dict_writer.writerows(data)\n"
   ]
  },
  {
   "cell_type": "code",
   "execution_count": 117,
   "metadata": {
    "ExecuteTime": {
     "end_time": "2020-07-14T17:38:02.171121Z",
     "start_time": "2020-07-14T17:38:02.111550Z"
    }
   },
   "outputs": [],
   "source": [
    "with open('Tax_rev_data_plus.csv', 'w+', newline='') as write_obj:\n",
    "    # create writer object\n",
    "    dict_writer = csv.DictWriter(write_obj, fieldnames = ['Date', 'Tax Revenue (%GDP)'])\n",
    "    #dict_writer.writeheader()\n",
    "    dict_writer.writerows(data)"
   ]
  },
  {
   "cell_type": "code",
   "execution_count": 134,
   "metadata": {
    "ExecuteTime": {
     "end_time": "2020-07-14T17:47:02.649627Z",
     "start_time": "2020-07-14T17:47:02.276614Z"
    }
   },
   "outputs": [],
   "source": [
    "driver.close()"
   ]
  },
  {
   "cell_type": "code",
   "execution_count": 192,
   "metadata": {
    "ExecuteTime": {
     "end_time": "2020-07-14T19:21:22.029549Z",
     "start_time": "2020-07-14T19:21:21.633660Z"
    }
   },
   "outputs": [],
   "source": [
    "def scrape(countries):\n",
    "    chromedriver = \"/Applications/chromedriver\" # path to the chromedriver executable\n",
    "    os.environ[\"webdriver.chrome.driver\"] = chromedriver\n",
    "\n",
    "    url = 'https://countryeconomy.com/taxes/tax-revenue'\n",
    "\n",
    "    driver = webdriver.Chrome()\n",
    "    driver.get(url)\n",
    "    \n",
    "    for country in countries:\n",
    "        time.sleep(5)\n",
    "        accept_button = driver.find_element_by_xpath('//div/button[@class=\"qc-cmp-button\"]').click()\n",
    "        time.sleep(2)\n",
    "        close_ad = driver.find_element_by_xpath('//div/div[@class=\"closeButton\"]').click()\n",
    "        pick_country = driver.find_element_by_xpath('//tr/td/a[@href=\"/taxes/tax-revenue/{}\"]'.format(country)).click()\n",
    "        #close_popup = driver.find_element_by_xpath('//div/button/span[@aria-hidden=\"true\"]').click()\n",
    "        \n",
    "        soup = BeautifulSoup(driver.page_source, 'lxml')\n",
    "\n",
    "        data =  get_data(soup)\n",
    "        \n",
    "        write(country, data)\n",
    "        \n",
    "\n",
    "    "
   ]
  },
  {
   "cell_type": "code",
   "execution_count": 193,
   "metadata": {
    "ExecuteTime": {
     "end_time": "2020-07-14T19:21:22.552415Z",
     "start_time": "2020-07-14T19:21:22.545565Z"
    }
   },
   "outputs": [],
   "source": [
    "def get_data(soup):\n",
    "    data_table = soup.find('table')\n",
    "    \n",
    "    data = []\n",
    "\n",
    "    header_row = table.find_all('th')\n",
    "    header = [header_row[0].text, header_row[-1].text]\n",
    "    rows = [row for row in table.find_all('tr')][1:]\n",
    "\n",
    "    for row in rows:\n",
    "        row_data = defaultdict()\n",
    "        for i in [0, -1]:\n",
    "            row_data[header[i]] = row.find_all('td')[i].text\n",
    "        data.append(row_data)\n",
    "\n",
    "    return data"
   ]
  },
  {
   "cell_type": "code",
   "execution_count": 194,
   "metadata": {
    "ExecuteTime": {
     "end_time": "2020-07-14T19:21:23.033342Z",
     "start_time": "2020-07-14T19:21:23.025928Z"
    }
   },
   "outputs": [],
   "source": [
    "def write(country, data):\n",
    "\n",
    "    with open('{}_tax_rev_data.csv'.format(country), 'w+', newline='') as write_obj:\n",
    "        # create writer object\n",
    "        dict_writer = csv.DictWriter(write_obj, fieldnames = ['Date', 'Tax Revenue (%GDP)'])\n",
    "        dict_writer.writeheader()\n",
    "        dict_writer.writerows(data)"
   ]
  },
  {
   "cell_type": "code",
   "execution_count": 195,
   "metadata": {
    "ExecuteTime": {
     "end_time": "2020-07-14T19:21:23.624462Z",
     "start_time": "2020-07-14T19:21:23.619856Z"
    }
   },
   "outputs": [],
   "source": [
    "write(countries[0], data)"
   ]
  },
  {
   "cell_type": "code",
   "execution_count": 196,
   "metadata": {
    "ExecuteTime": {
     "end_time": "2020-07-14T19:21:46.220843Z",
     "start_time": "2020-07-14T19:21:29.345366Z"
    },
    "collapsed": true
   },
   "outputs": [
    {
     "ename": "ValueError",
     "evalue": "dict contains fields not in fieldnames: 'Countries', 'Ch.'",
     "output_type": "error",
     "traceback": [
      "\u001b[0;31m---------------------------------------------------------------------------\u001b[0m",
      "\u001b[0;31mValueError\u001b[0m                                Traceback (most recent call last)",
      "\u001b[0;32m<ipython-input-196-5a952dbf4613>\u001b[0m in \u001b[0;36m<module>\u001b[0;34m\u001b[0m\n\u001b[0;32m----> 1\u001b[0;31m \u001b[0mscrape\u001b[0m\u001b[0;34m(\u001b[0m\u001b[0mcountries\u001b[0m\u001b[0;34m)\u001b[0m\u001b[0;34m\u001b[0m\u001b[0;34m\u001b[0m\u001b[0m\n\u001b[0m",
      "\u001b[0;32m<ipython-input-192-ed5afca730d1>\u001b[0m in \u001b[0;36mscrape\u001b[0;34m(countries)\u001b[0m\n\u001b[1;32m     20\u001b[0m         \u001b[0mdata\u001b[0m \u001b[0;34m=\u001b[0m  \u001b[0mget_data\u001b[0m\u001b[0;34m(\u001b[0m\u001b[0msoup\u001b[0m\u001b[0;34m)\u001b[0m\u001b[0;34m\u001b[0m\u001b[0;34m\u001b[0m\u001b[0m\n\u001b[1;32m     21\u001b[0m \u001b[0;34m\u001b[0m\u001b[0m\n\u001b[0;32m---> 22\u001b[0;31m         \u001b[0mwrite\u001b[0m\u001b[0;34m(\u001b[0m\u001b[0mcountry\u001b[0m\u001b[0;34m,\u001b[0m \u001b[0mdata\u001b[0m\u001b[0;34m)\u001b[0m\u001b[0;34m\u001b[0m\u001b[0;34m\u001b[0m\u001b[0m\n\u001b[0m\u001b[1;32m     23\u001b[0m \u001b[0;34m\u001b[0m\u001b[0m\n\u001b[1;32m     24\u001b[0m \u001b[0;34m\u001b[0m\u001b[0m\n",
      "\u001b[0;32m<ipython-input-194-53d204f3d10d>\u001b[0m in \u001b[0;36mwrite\u001b[0;34m(country, data)\u001b[0m\n\u001b[1;32m      5\u001b[0m         \u001b[0mdict_writer\u001b[0m \u001b[0;34m=\u001b[0m \u001b[0mcsv\u001b[0m\u001b[0;34m.\u001b[0m\u001b[0mDictWriter\u001b[0m\u001b[0;34m(\u001b[0m\u001b[0mwrite_obj\u001b[0m\u001b[0;34m,\u001b[0m \u001b[0mfieldnames\u001b[0m \u001b[0;34m=\u001b[0m \u001b[0;34m[\u001b[0m\u001b[0;34m'Date'\u001b[0m\u001b[0;34m,\u001b[0m \u001b[0;34m'Tax Revenue (%GDP)'\u001b[0m\u001b[0;34m]\u001b[0m\u001b[0;34m)\u001b[0m\u001b[0;34m\u001b[0m\u001b[0;34m\u001b[0m\u001b[0m\n\u001b[1;32m      6\u001b[0m         \u001b[0mdict_writer\u001b[0m\u001b[0;34m.\u001b[0m\u001b[0mwriteheader\u001b[0m\u001b[0;34m(\u001b[0m\u001b[0;34m)\u001b[0m\u001b[0;34m\u001b[0m\u001b[0;34m\u001b[0m\u001b[0m\n\u001b[0;32m----> 7\u001b[0;31m         \u001b[0mdict_writer\u001b[0m\u001b[0;34m.\u001b[0m\u001b[0mwriterows\u001b[0m\u001b[0;34m(\u001b[0m\u001b[0mdata\u001b[0m\u001b[0;34m)\u001b[0m\u001b[0;34m\u001b[0m\u001b[0;34m\u001b[0m\u001b[0m\n\u001b[0m",
      "\u001b[0;32m~/anaconda3/envs/metis/lib/python3.8/csv.py\u001b[0m in \u001b[0;36mwriterows\u001b[0;34m(self, rowdicts)\u001b[0m\n\u001b[1;32m    155\u001b[0m \u001b[0;34m\u001b[0m\u001b[0m\n\u001b[1;32m    156\u001b[0m     \u001b[0;32mdef\u001b[0m \u001b[0mwriterows\u001b[0m\u001b[0;34m(\u001b[0m\u001b[0mself\u001b[0m\u001b[0;34m,\u001b[0m \u001b[0mrowdicts\u001b[0m\u001b[0;34m)\u001b[0m\u001b[0;34m:\u001b[0m\u001b[0;34m\u001b[0m\u001b[0;34m\u001b[0m\u001b[0m\n\u001b[0;32m--> 157\u001b[0;31m         \u001b[0;32mreturn\u001b[0m \u001b[0mself\u001b[0m\u001b[0;34m.\u001b[0m\u001b[0mwriter\u001b[0m\u001b[0;34m.\u001b[0m\u001b[0mwriterows\u001b[0m\u001b[0;34m(\u001b[0m\u001b[0mmap\u001b[0m\u001b[0;34m(\u001b[0m\u001b[0mself\u001b[0m\u001b[0;34m.\u001b[0m\u001b[0m_dict_to_list\u001b[0m\u001b[0;34m,\u001b[0m \u001b[0mrowdicts\u001b[0m\u001b[0;34m)\u001b[0m\u001b[0;34m)\u001b[0m\u001b[0;34m\u001b[0m\u001b[0;34m\u001b[0m\u001b[0m\n\u001b[0m\u001b[1;32m    158\u001b[0m \u001b[0;34m\u001b[0m\u001b[0m\n\u001b[1;32m    159\u001b[0m \u001b[0;31m# Guard Sniffer's type checking against builds that exclude complex()\u001b[0m\u001b[0;34m\u001b[0m\u001b[0;34m\u001b[0m\u001b[0;34m\u001b[0m\u001b[0m\n",
      "\u001b[0;32m~/anaconda3/envs/metis/lib/python3.8/csv.py\u001b[0m in \u001b[0;36m_dict_to_list\u001b[0;34m(self, rowdict)\u001b[0m\n\u001b[1;32m    147\u001b[0m             \u001b[0mwrong_fields\u001b[0m \u001b[0;34m=\u001b[0m \u001b[0mrowdict\u001b[0m\u001b[0;34m.\u001b[0m\u001b[0mkeys\u001b[0m\u001b[0;34m(\u001b[0m\u001b[0;34m)\u001b[0m \u001b[0;34m-\u001b[0m \u001b[0mself\u001b[0m\u001b[0;34m.\u001b[0m\u001b[0mfieldnames\u001b[0m\u001b[0;34m\u001b[0m\u001b[0;34m\u001b[0m\u001b[0m\n\u001b[1;32m    148\u001b[0m             \u001b[0;32mif\u001b[0m \u001b[0mwrong_fields\u001b[0m\u001b[0;34m:\u001b[0m\u001b[0;34m\u001b[0m\u001b[0;34m\u001b[0m\u001b[0m\n\u001b[0;32m--> 149\u001b[0;31m                 raise ValueError(\"dict contains fields not in fieldnames: \"\n\u001b[0m\u001b[1;32m    150\u001b[0m                                  + \", \".join([repr(x) for x in wrong_fields]))\n\u001b[1;32m    151\u001b[0m         \u001b[0;32mreturn\u001b[0m \u001b[0;34m(\u001b[0m\u001b[0mrowdict\u001b[0m\u001b[0;34m.\u001b[0m\u001b[0mget\u001b[0m\u001b[0;34m(\u001b[0m\u001b[0mkey\u001b[0m\u001b[0;34m,\u001b[0m \u001b[0mself\u001b[0m\u001b[0;34m.\u001b[0m\u001b[0mrestval\u001b[0m\u001b[0;34m)\u001b[0m \u001b[0;32mfor\u001b[0m \u001b[0mkey\u001b[0m \u001b[0;32min\u001b[0m \u001b[0mself\u001b[0m\u001b[0;34m.\u001b[0m\u001b[0mfieldnames\u001b[0m\u001b[0;34m)\u001b[0m\u001b[0;34m\u001b[0m\u001b[0;34m\u001b[0m\u001b[0m\n",
      "\u001b[0;31mValueError\u001b[0m: dict contains fields not in fieldnames: 'Countries', 'Ch.'"
     ]
    }
   ],
   "source": [
    "scrape(countries)"
   ]
  },
  {
   "cell_type": "code",
   "execution_count": 191,
   "metadata": {
    "ExecuteTime": {
     "end_time": "2020-07-14T19:20:54.092211Z",
     "start_time": "2020-07-14T19:20:54.085986Z"
    }
   },
   "outputs": [
    {
     "data": {
      "text/plain": [
       "defaultdict(None, {'Date': '1990', 'Tax Revenue (%GDP)': '7.1%'})"
      ]
     },
     "execution_count": 191,
     "metadata": {},
     "output_type": "execute_result"
    }
   ],
   "source": [
    "row_data"
   ]
  },
  {
   "cell_type": "code",
   "execution_count": 223,
   "metadata": {
    "ExecuteTime": {
     "end_time": "2020-07-14T19:50:55.450219Z",
     "start_time": "2020-07-14T19:50:50.317627Z"
    }
   },
   "outputs": [],
   "source": [
    "chromedriver = \"/Applications/chromedriver\" # path to the chromedriver executable\n",
    "os.environ[\"webdriver.chrome.driver\"] = chromedriver\n",
    "\n",
    "url = 'https://www.indexmundi.com/facts/chad/indicator/NY.GDS.TOTL.ZS'\n",
    "\n",
    "driver = webdriver.Chrome()\n",
    "driver.get(url)"
   ]
  },
  {
   "cell_type": "code",
   "execution_count": 226,
   "metadata": {
    "ExecuteTime": {
     "end_time": "2020-07-14T19:53:17.468392Z",
     "start_time": "2020-07-14T19:53:17.422032Z"
    }
   },
   "outputs": [],
   "source": [
    "soup = BeautifulSoup(driver.page_source, 'lxml')\n",
    "table = soup.find('table')"
   ]
  },
  {
   "cell_type": "code",
   "execution_count": 227,
   "metadata": {
    "ExecuteTime": {
     "end_time": "2020-07-14T19:53:41.077470Z",
     "start_time": "2020-07-14T19:53:41.042387Z"
    }
   },
   "outputs": [
    {
     "data": {
      "text/plain": [
       "[defaultdict(None, {'Year': '1960', 'Value': '19.02'}),\n",
       " defaultdict(None, {'Year': '1961', 'Value': '18.97'}),\n",
       " defaultdict(None, {'Year': '1962', 'Value': '14.56'}),\n",
       " defaultdict(None, {'Year': '1963', 'Value': '17.42'}),\n",
       " defaultdict(None, {'Year': '1964', 'Value': '15.52'}),\n",
       " defaultdict(None, {'Year': '1965', 'Value': '15.81'}),\n",
       " defaultdict(None, {'Year': '1966', 'Value': '18.73'}),\n",
       " defaultdict(None, {'Year': '1967', 'Value': '22.11'}),\n",
       " defaultdict(None, {'Year': '1968', 'Value': '21.76'}),\n",
       " defaultdict(None, {'Year': '1969', 'Value': '23.16'}),\n",
       " defaultdict(None, {'Year': '1970', 'Value': '20.93'}),\n",
       " defaultdict(None, {'Year': '1971', 'Value': '21.78'}),\n",
       " defaultdict(None, {'Year': '1972', 'Value': '21.09'}),\n",
       " defaultdict(None, {'Year': '1973', 'Value': '17.17'}),\n",
       " defaultdict(None, {'Year': '1974', 'Value': '20.17'}),\n",
       " defaultdict(None, {'Year': '1975', 'Value': '17.71'}),\n",
       " defaultdict(None, {'Year': '1976', 'Value': '15.16'}),\n",
       " defaultdict(None, {'Year': '1977', 'Value': '13.13'}),\n",
       " defaultdict(None, {'Year': '1978', 'Value': '13.02'}),\n",
       " defaultdict(None, {'Year': '1982', 'Value': '1.00'}),\n",
       " defaultdict(None, {'Year': '1983', 'Value': '0.50'}),\n",
       " defaultdict(None, {'Year': '1984', 'Value': '-1.20'}),\n",
       " defaultdict(None, {'Year': '1985', 'Value': '-9.24'}),\n",
       " defaultdict(None, {'Year': '1986', 'Value': '-11.05'}),\n",
       " defaultdict(None, {'Year': '1987', 'Value': '-7.98'}),\n",
       " defaultdict(None, {'Year': '1988', 'Value': '-3.34'}),\n",
       " defaultdict(None, {'Year': '1989', 'Value': '-4.89'}),\n",
       " defaultdict(None, {'Year': '1990', 'Value': '-7.67'}),\n",
       " defaultdict(None, {'Year': '1991', 'Value': '-1.63'}),\n",
       " defaultdict(None, {'Year': '1992', 'Value': '-2.27'}),\n",
       " defaultdict(None, {'Year': '1993', 'Value': '-2.60'}),\n",
       " defaultdict(None, {'Year': '1994', 'Value': '-2.11'}),\n",
       " defaultdict(None, {'Year': '1995', 'Value': '1.70'}),\n",
       " defaultdict(None, {'Year': '1996', 'Value': '9.16'}),\n",
       " defaultdict(None, {'Year': '1997', 'Value': '7.07'}),\n",
       " defaultdict(None, {'Year': '1998', 'Value': '4.12'}),\n",
       " defaultdict(None, {'Year': '1999', 'Value': '-0.18'}),\n",
       " defaultdict(None, {'Year': '2000', 'Value': '5.48'}),\n",
       " defaultdict(None, {'Year': '2001', 'Value': '5.26'}),\n",
       " defaultdict(None, {'Year': '2002', 'Value': '-40.81'}),\n",
       " defaultdict(None, {'Year': '2003', 'Value': '18.52'}),\n",
       " defaultdict(None, {'Year': '2004', 'Value': '24.53'}),\n",
       " defaultdict(None, {'Year': '2005', 'Value': '30.81'}),\n",
       " defaultdict(None, {'Year': '2006', 'Value': '21.45'}),\n",
       " defaultdict(None, {'Year': '2007', 'Value': '26.59'}),\n",
       " defaultdict(None, {'Year': '2008', 'Value': '26.98'}),\n",
       " defaultdict(None, {'Year': '2009', 'Value': '23.40'}),\n",
       " defaultdict(None, {'Year': '2010', 'Value': '27.78'}),\n",
       " defaultdict(None, {'Year': '2011', 'Value': '25.55'}),\n",
       " defaultdict(None, {'Year': '2012', 'Value': '27.46'}),\n",
       " defaultdict(None, {'Year': '2013', 'Value': '23.73'}),\n",
       " defaultdict(None, {'Year': '2014', 'Value': '25.46'}),\n",
       " defaultdict(None, {'Year': '2015', 'Value': '21.53'}),\n",
       " defaultdict(None, {'Year': '2016', 'Value': '20.41'}),\n",
       " defaultdict(None, {'Year': '2017', 'Value': '15.51'}),\n",
       " defaultdict(None, {'Year': '2018', 'Value': '19.10'})]"
      ]
     },
     "execution_count": 227,
     "metadata": {},
     "output_type": "execute_result"
    }
   ],
   "source": [
    "data = []\n",
    "\n",
    "header_row = table.find_all('th')\n",
    "header = [header_row[0].text, header_row[-1].text]\n",
    "rows = [row for row in table.find_all('tr')][1:]\n",
    "\n",
    "for row in rows:\n",
    "    row_data = defaultdict()\n",
    "    for i in [0, -1]:\n",
    "        row_data[header[i]] = row.find_all('td')[i].text\n",
    "    data.append(row_data)\n",
    "\n",
    "data"
   ]
  },
  {
   "cell_type": "code",
   "execution_count": 230,
   "metadata": {
    "ExecuteTime": {
     "end_time": "2020-07-14T19:55:14.613533Z",
     "start_time": "2020-07-14T19:55:14.588749Z"
    }
   },
   "outputs": [],
   "source": [
    "\n",
    "with open('Chad_Gross_Domestic_savings_(%GDP).csv', 'w+', newline='') as write_obj:\n",
    "    # create writer object\n",
    "    dict_writer = csv.DictWriter(write_obj, fieldnames = ['Year', 'Value'])\n",
    "    dict_writer.writeheader()\n",
    "    dict_writer.writerows(data)"
   ]
  },
  {
   "cell_type": "code",
   "execution_count": 231,
   "metadata": {
    "ExecuteTime": {
     "end_time": "2020-07-14T19:55:29.183014Z",
     "start_time": "2020-07-14T19:55:28.172703Z"
    }
   },
   "outputs": [],
   "source": [
    "driver.close()"
   ]
  },
  {
   "cell_type": "code",
   "execution_count": 232,
   "metadata": {
    "ExecuteTime": {
     "end_time": "2020-07-14T19:55:49.902368Z",
     "start_time": "2020-07-14T19:55:41.042507Z"
    }
   },
   "outputs": [],
   "source": [
    "chromedriver = \"/Applications/chromedriver\" # path to the chromedriver executable\n",
    "os.environ[\"webdriver.chrome.driver\"] = chromedriver\n",
    "\n",
    "url = 'https://knoema.com/atlas/Uzbekistan/Inflation-rate'\n",
    "\n",
    "driver = webdriver.Chrome()\n",
    "driver.get(url)"
   ]
  },
  {
   "cell_type": "code",
   "execution_count": 233,
   "metadata": {
    "ExecuteTime": {
     "end_time": "2020-07-14T19:56:03.884399Z",
     "start_time": "2020-07-14T19:55:58.140015Z"
    }
   },
   "outputs": [],
   "source": [
    "soup = BeautifulSoup(driver.page_source, 'lxml')\n",
    "table = soup.find('table')"
   ]
  },
  {
   "cell_type": "code",
   "execution_count": 238,
   "metadata": {
    "ExecuteTime": {
     "end_time": "2020-07-14T19:57:51.866887Z",
     "start_time": "2020-07-14T19:57:51.853847Z"
    }
   },
   "outputs": [
    {
     "data": {
      "text/plain": [
       "[defaultdict(None,\n",
       "             {'Date': '2019', 'Value': '14.5', 'Change,\\xa0%': '-17.09 %'}),\n",
       " defaultdict(None,\n",
       "             {'Date': '2018', 'Value': '17.5', 'Change,\\xa0%': '26.29 %'}),\n",
       " defaultdict(None,\n",
       "             {'Date': '2017', 'Value': '13.9', 'Change,\\xa0%': '57.25 %'}),\n",
       " defaultdict(None, {'Date': '2016', 'Value': '8.8', 'Change,\\xa0%': '4.25 %'}),\n",
       " defaultdict(None,\n",
       "             {'Date': '2015', 'Value': '8.5', 'Change,\\xa0%': '-6.77 %'}),\n",
       " defaultdict(None,\n",
       "             {'Date': '2014', 'Value': '9.1', 'Change,\\xa0%': '-22.40 %'}),\n",
       " defaultdict(None,\n",
       "             {'Date': '2013', 'Value': '11.7', 'Change,\\xa0%': '-1.68 %'}),\n",
       " defaultdict(None,\n",
       "             {'Date': '2012', 'Value': '11.9', 'Change,\\xa0%': '-4.39 %'}),\n",
       " defaultdict(None,\n",
       "             {'Date': '2011', 'Value': '12.4', 'Change,\\xa0%': '1.16 %'}),\n",
       " defaultdict(None,\n",
       "             {'Date': '2010', 'Value': '12.3', 'Change,\\xa0%': '0.05 %'}),\n",
       " defaultdict(None,\n",
       "             {'Date': '2009', 'Value': '12.3', 'Change,\\xa0%': '-6.32 %'}),\n",
       " defaultdict(None, {'Date': '2008', 'Value': '13.1', 'Change,\\xa0%': ''})]"
      ]
     },
     "execution_count": 238,
     "metadata": {},
     "output_type": "execute_result"
    }
   ],
   "source": [
    "data = []\n",
    "\n",
    "header_row = table.find_all('th')\n",
    "header = [header_row[0].text, header_row[1].text, header_row[-1].text]\n",
    "rows = [row for row in table.find_all('tr')][1:]\n",
    "\n",
    "for row in rows:\n",
    "    row_data = defaultdict()\n",
    "    for i in range(len(header)):\n",
    "        row_data[header[i]] = row.find_all('td')[i].text\n",
    "    data.append(row_data)\n",
    "\n",
    "data"
   ]
  },
  {
   "cell_type": "code",
   "execution_count": 239,
   "metadata": {
    "ExecuteTime": {
     "end_time": "2020-07-14T19:57:52.886979Z",
     "start_time": "2020-07-14T19:57:52.871602Z"
    }
   },
   "outputs": [
    {
     "data": {
      "text/plain": [
       "<table class=\"knoema-table\">\n",
       "<thead>\n",
       "<tr>\n",
       "<th>Date</th>\n",
       "<th>Value</th>\n",
       "<th>Change, %</th>\n",
       "</tr>\n",
       "</thead>\n",
       "<tbody>\n",
       "<tr class=\"odd\">\n",
       "<td>2019</td>\n",
       "<td>14.5</td>\n",
       "<td class=\"percent\">-17.09 %</td>\n",
       "</tr>\n",
       "<tr>\n",
       "<td>2018</td>\n",
       "<td>17.5</td>\n",
       "<td class=\"percent\">26.29 %</td>\n",
       "</tr>\n",
       "<tr class=\"odd\">\n",
       "<td>2017</td>\n",
       "<td>13.9</td>\n",
       "<td class=\"percent\">57.25 %</td>\n",
       "</tr>\n",
       "<tr>\n",
       "<td>2016</td>\n",
       "<td>8.8</td>\n",
       "<td class=\"percent\">4.25 %</td>\n",
       "</tr>\n",
       "<tr class=\"odd\">\n",
       "<td>2015</td>\n",
       "<td>8.5</td>\n",
       "<td class=\"percent\">-6.77 %</td>\n",
       "</tr>\n",
       "<tr>\n",
       "<td>2014</td>\n",
       "<td>9.1</td>\n",
       "<td class=\"percent\">-22.40 %</td>\n",
       "</tr>\n",
       "<tr class=\"odd\">\n",
       "<td>2013</td>\n",
       "<td>11.7</td>\n",
       "<td class=\"percent\">-1.68 %</td>\n",
       "</tr>\n",
       "<tr>\n",
       "<td>2012</td>\n",
       "<td>11.9</td>\n",
       "<td class=\"percent\">-4.39 %</td>\n",
       "</tr>\n",
       "<tr class=\"odd\">\n",
       "<td>2011</td>\n",
       "<td>12.4</td>\n",
       "<td class=\"percent\">1.16 %</td>\n",
       "</tr>\n",
       "<tr>\n",
       "<td>2010</td>\n",
       "<td>12.3</td>\n",
       "<td class=\"percent\">0.05 %</td>\n",
       "</tr>\n",
       "<tr class=\"odd\">\n",
       "<td>2009</td>\n",
       "<td>12.3</td>\n",
       "<td class=\"percent\">-6.32 %</td>\n",
       "</tr>\n",
       "<tr>\n",
       "<td>2008</td>\n",
       "<td>13.1</td>\n",
       "<td class=\"percent\"></td>\n",
       "</tr>\n",
       "</tbody>\n",
       "</table>"
      ]
     },
     "execution_count": 239,
     "metadata": {},
     "output_type": "execute_result"
    }
   ],
   "source": [
    "\n",
    "with open('Chad_Gross_Domestic_savings_(%GDP).csv', 'w+', newline='') as write_obj:\n",
    "    # create writer object\n",
    "    dict_writer = csv.DictWriter(write_obj, fieldnames = ['Year', 'Value'])\n",
    "    dict_writer.writeheader()\n",
    "    dict_writer.writerows(data)"
   ]
  },
  {
   "cell_type": "code",
   "execution_count": null,
   "metadata": {},
   "outputs": [],
   "source": []
  }
 ],
 "metadata": {
  "kernelspec": {
   "display_name": "Python [conda env:metis] *",
   "language": "python",
   "name": "conda-env-metis-py"
  },
  "language_info": {
   "codemirror_mode": {
    "name": "ipython",
    "version": 3
   },
   "file_extension": ".py",
   "mimetype": "text/x-python",
   "name": "python",
   "nbconvert_exporter": "python",
   "pygments_lexer": "ipython3",
   "version": "3.8.3"
  },
  "toc": {
   "base_numbering": 1,
   "nav_menu": {},
   "number_sections": true,
   "sideBar": true,
   "skip_h1_title": false,
   "title_cell": "Table of Contents",
   "title_sidebar": "Contents",
   "toc_cell": false,
   "toc_position": {},
   "toc_section_display": true,
   "toc_window_display": false
  }
 },
 "nbformat": 4,
 "nbformat_minor": 4
}
