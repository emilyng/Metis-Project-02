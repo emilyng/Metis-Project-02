{
 "cells": [
  {
   "cell_type": "code",
   "execution_count": 196,
   "metadata": {
    "ExecuteTime": {
     "end_time": "2020-07-11T04:53:04.328179Z",
     "start_time": "2020-07-11T04:53:04.183908Z"
    }
   },
   "outputs": [],
   "source": [
    "import re\n",
    "import requests\n",
    "import time, os\n",
    "import itertools\n",
    "\n",
    "from collections import defaultdict\n",
    "from bs4 import BeautifulSoup\n",
    "from selenium import webdriver\n",
    "from selenium.webdriver.common.keys import Keys"
   ]
  },
  {
   "cell_type": "code",
   "execution_count": 256,
   "metadata": {
    "ExecuteTime": {
     "end_time": "2020-07-11T06:06:24.479763Z",
     "start_time": "2020-07-11T06:06:24.467629Z"
    }
   },
   "outputs": [],
   "source": [
    "columns = ['data.economy.budget.date', 'data.economy.budget.expenditures.units',\n",
    "           'data.economy.budget.expenditures.value', 'data.economy.budget.revenues.units',\n",
    "           'data.economy.budget.revenues.value', 'data.economy.budget_surplus_or_deficit.date',\n",
    "           'data.economy.budget_surplus_or_deficit.percent_of_gdp', 'data.economy.exports.partners.by_country',\n",
    "           'data.economy.exports.partners.date', 'data.economy.gdp.composition.by_end_use.date',\n",
    "           'data.economy.gdp.composition.by_end_use.end_uses.exports_of_goods_and_services.units',\n",
    "           'data.economy.gdp.composition.by_end_use.end_uses.exports_of_goods_and_services.value',\n",
    "           'data.economy.gdp.composition.by_end_use.end_uses.household_consumption.value',\n",
    "           'data.economy.household_income_by_percentage_share.highest_ten_percent.units',\n",
    "           'data.economy.household_income_by_percentage_share.highest_ten_percent.value',\n",
    "           'data.economy.household_income_by_percentage_share.lowest_ten_percent.units',\n",
    "           'data.economy.household_income_by_percentage_share.lowest_ten_percent.value',\n",
    "           'data.economy.industrial_production_growth_rate.annual_percentage_increase', \n",
    "           'data.economy.industrial_production_growth_rate.date', 'data.energy.electricity.access.date',\n",
    "           'data.energy.electricity.access.total_electrification.value', \n",
    "           'data.energy.electricity.by_source.fossil_fuels.date',\n",
    "           'data.energy.electricity.by_source.fossil_fuels.percent', \n",
    "           'data.energy.electricity.by_source.hydroelectric_plants.date',\n",
    "           'data.energy.electricity.by_source.hydroelectric_plants.percent', \n",
    "           'data.energy.electricity.by_source.nuclear_fuels.date', \n",
    "           'data.energy.electricity.by_source.nuclear_fuels.percent',\n",
    "           'data.energy.electricity.by_source.other_renewable_sources.date', \n",
    "           'data.energy.electricity.by_source.other_renewable_sources.percent']"
   ]
  },
  {
   "cell_type": "code",
   "execution_count": 257,
   "metadata": {
    "ExecuteTime": {
     "end_time": "2020-07-11T06:06:25.054315Z",
     "start_time": "2020-07-11T06:06:25.050652Z"
    }
   },
   "outputs": [],
   "source": [
    "chromedriver = \"/Applications/chromedriver\" # path to the chromedriver executable\n",
    "os.environ[\"webdriver.chrome.driver\"] = chromedriver\n",
    "url = 'https://iancoleman.io/explorer-cia-world-factbook/'"
   ]
  },
  {
   "cell_type": "code",
   "execution_count": 258,
   "metadata": {
    "ExecuteTime": {
     "end_time": "2020-07-11T06:06:29.531935Z",
     "start_time": "2020-07-11T06:06:25.590516Z"
    }
   },
   "outputs": [],
   "source": [
    "driver = webdriver.Chrome()\n",
    "driver.get(url)"
   ]
  },
  {
   "cell_type": "code",
   "execution_count": 259,
   "metadata": {
    "ExecuteTime": {
     "end_time": "2020-07-11T06:06:30.049505Z",
     "start_time": "2020-07-11T06:06:29.541575Z"
    }
   },
   "outputs": [],
   "source": [
    "soup = BeautifulSoup(driver.page_source, 'lxml')"
   ]
  },
  {
   "cell_type": "code",
   "execution_count": 260,
   "metadata": {
    "ExecuteTime": {
     "end_time": "2020-07-11T06:06:30.372141Z",
     "start_time": "2020-07-11T06:06:30.091168Z"
    }
   },
   "outputs": [],
   "source": [
    "chooseFile = driver.find_element_by_xpath('//div/p[@class=\"dz-clickable\"]')"
   ]
  },
  {
   "cell_type": "code",
   "execution_count": 261,
   "metadata": {
    "ExecuteTime": {
     "end_time": "2020-07-11T06:06:32.958861Z",
     "start_time": "2020-07-11T06:06:32.876718Z"
    }
   },
   "outputs": [],
   "source": [
    "#credit: Roman Konoval StackOverflow\n",
    "#https://stackoverflow.com/questions/43382447/python-with-selenium-drag-and-drop-from-file-system-to-webdriver\n",
    "\n",
    "'''\n",
    "Uses JS_DROP_FILE script to enable selenium to drag and drop a file from \n",
    "local machine as input for website.\n",
    "'''\n",
    "\n",
    "JS_DROP_FILE = \"\"\"\n",
    "    var target = arguments[0],\n",
    "        offsetX = arguments[1],\n",
    "        offsetY = arguments[2],\n",
    "        document = target.ownerDocument || document,\n",
    "        window = document.defaultView || window;\n",
    "\n",
    "    var input = document.createElement('INPUT');\n",
    "    input.type = 'file';\n",
    "    input.onchange = function () {\n",
    "      var rect = target.getBoundingClientRect(),\n",
    "          x = rect.left + (offsetX || (rect.width >> 1)),\n",
    "          y = rect.top + (offsetY || (rect.height >> 1)),\n",
    "          dataTransfer = { files: this.files };\n",
    "\n",
    "      ['dragenter', 'dragover', 'drop'].forEach(function (name) {\n",
    "        var evt = document.createEvent('MouseEvent');\n",
    "        evt.initMouseEvent(name, !0, !0, window, 0, 0, 0, x, y, !1, !1, !1, !1, 0, null);\n",
    "        evt.dataTransfer = dataTransfer;\n",
    "        target.dispatchEvent(evt);\n",
    "      });\n",
    "\n",
    "      setTimeout(function () { document.body.removeChild(input); }, 25);\n",
    "    };\n",
    "    document.body.appendChild(input);\n",
    "    return input;\n",
    "\"\"\"\n",
    "\n",
    "def drag_and_drop_file(drop_target, path):\n",
    "    driver = drop_target.parent\n",
    "    file_input = driver.execute_script(JS_DROP_FILE, drop_target, 0, 0)\n",
    "    file_input.send_keys(path)"
   ]
  },
  {
   "cell_type": "code",
   "execution_count": null,
   "metadata": {},
   "outputs": [],
   "source": []
  },
  {
   "cell_type": "code",
   "execution_count": 262,
   "metadata": {
    "ExecuteTime": {
     "end_time": "2020-07-11T06:06:35.249227Z",
     "start_time": "2020-07-11T06:06:35.212489Z"
    }
   },
   "outputs": [],
   "source": [
    "#credit to: Rob Hawkins from stackoverflow\n",
    "#https://stackoverflow.com/questions/37979644/parse-beautifulsoup-element-into-selenium\n",
    "\n",
    "def xpath_soup(element):\n",
    "    \"\"\"\n",
    "    Generate xpath of soup element\n",
    "    :param element: bs4 text or node\n",
    "    :return: xpath as string\n",
    "    \"\"\"\n",
    "    components = []\n",
    "    child = element if element.name else element.parent\n",
    "    for parent in child.parents:\n",
    "        \"\"\"\n",
    "        @type parent: bs4.element.Tag\n",
    "        \"\"\"\n",
    "        previous = itertools.islice(parent.children, 0, parent.contents.index(child))\n",
    "        xpath_tag = child.name\n",
    "        xpath_index = sum(1 for i in previous if i.name == xpath_tag) + 1\n",
    "        components.append(xpath_tag if xpath_index == 1 else '%s[%d]' % (xpath_tag, xpath_index))\n",
    "        child = parent\n",
    "    components.reverse()\n",
    "    return '/%s' % '/'.join(components) "
   ]
  },
  {
   "cell_type": "code",
   "execution_count": null,
   "metadata": {},
   "outputs": [],
   "source": []
  },
  {
   "cell_type": "code",
   "execution_count": null,
   "metadata": {},
   "outputs": [],
   "source": []
  },
  {
   "cell_type": "code",
   "execution_count": 263,
   "metadata": {
    "ExecuteTime": {
     "end_time": "2020-07-11T06:06:38.073394Z",
     "start_time": "2020-07-11T06:06:37.470347Z"
    }
   },
   "outputs": [],
   "source": [
    "path = os.path.abspath(\"/Users/emilyng/Documents/chi20_ds15/curriculum/project-02/Proj-02-Data/factbook 2013-2018/2020-05-04_factbook.json\")\n",
    "drag_and_drop_file(chooseFile, path)"
   ]
  },
  {
   "cell_type": "code",
   "execution_count": 264,
   "metadata": {
    "ExecuteTime": {
     "end_time": "2020-07-11T06:06:40.137822Z",
     "start_time": "2020-07-11T06:06:39.911491Z"
    }
   },
   "outputs": [],
   "source": [
    "change_columns_button = driver.find_element_by_xpath('//p/button[@type=\"button\"]').click()"
   ]
  },
  {
   "cell_type": "code",
   "execution_count": 265,
   "metadata": {
    "ExecuteTime": {
     "end_time": "2020-07-11T06:06:42.193060Z",
     "start_time": "2020-07-11T06:06:41.846678Z"
    }
   },
   "outputs": [],
   "source": [
    "soup = BeautifulSoup(driver.page_source, 'lxml')"
   ]
  },
  {
   "cell_type": "code",
   "execution_count": null,
   "metadata": {},
   "outputs": [],
   "source": []
  },
  {
   "cell_type": "code",
   "execution_count": 266,
   "metadata": {
    "ExecuteTime": {
     "end_time": "2020-07-11T06:06:44.779097Z",
     "start_time": "2020-07-11T06:06:44.762978Z"
    }
   },
   "outputs": [],
   "source": [
    "def check_boxes(soup):\n",
    "    '''\n",
    "    Check all the boxes for features of interest (specified in 'columns').\n",
    "    This method may result in some leak-over of features not explicitly specified in 'columns'\n",
    "    list. This is due to the cases where the column is not one of the checkbox options\n",
    "    \n",
    "    check_boxes() will print out all features in 'columns' list that does not appear as a \n",
    "    check box option\n",
    "    '''\n",
    "    global columns\n",
    "    for i in range(len(columns)):\n",
    "        try:\n",
    "            soup_element = soup.find(text=columns[i]).find_previous('input')\n",
    "            xpath = xpath_soup(soup_element)\n",
    "            driver.find_element_by_xpath(xpath).click()\n",
    "        except:\n",
    "            print('\"{}\" not found'.format(columns[i]))\n",
    "            pass"
   ]
  },
  {
   "cell_type": "code",
   "execution_count": 267,
   "metadata": {
    "ExecuteTime": {
     "end_time": "2020-07-11T06:07:06.569257Z",
     "start_time": "2020-07-11T06:06:53.451888Z"
    }
   },
   "outputs": [],
   "source": [
    "check_boxes(soup)"
   ]
  },
  {
   "cell_type": "code",
   "execution_count": null,
   "metadata": {},
   "outputs": [],
   "source": []
  },
  {
   "cell_type": "code",
   "execution_count": null,
   "metadata": {},
   "outputs": [],
   "source": []
  },
  {
   "cell_type": "code",
   "execution_count": null,
   "metadata": {},
   "outputs": [],
   "source": []
  },
  {
   "cell_type": "code",
   "execution_count": 254,
   "metadata": {
    "ExecuteTime": {
     "end_time": "2020-07-11T06:03:58.746019Z",
     "start_time": "2020-07-11T06:03:45.043197Z"
    }
   },
   "outputs": [],
   "source": [
    "#this may result in some leak-over of columns not explicitly specified in 'columns'\n",
    "#list. This is due to the cases where the column is not one of the checkbox options\n",
    "\n",
    "for i in range(len(columns)):\n",
    "    try:\n",
    "        soup_element = soup.find(text=columns[i]).find_previous('input')\n",
    "        xpath = xpath_soup(soup_element)\n",
    "        check_box = driver.find_element_by_xpath(xpath).click()\n",
    "    except:\n",
    "        print('\"{}\" not found'.format(columns[i]))\n",
    "        pass"
   ]
  },
  {
   "cell_type": "code",
   "execution_count": 242,
   "metadata": {
    "ExecuteTime": {
     "end_time": "2020-07-11T05:59:03.255954Z",
     "start_time": "2020-07-11T05:59:03.114033Z"
    }
   },
   "outputs": [],
   "source": [
    "x_button = driver.find_element_by_xpath('//div/button[@aria-label=\"Close\"]').click()"
   ]
  },
  {
   "cell_type": "code",
   "execution_count": 209,
   "metadata": {
    "ExecuteTime": {
     "end_time": "2020-07-11T04:53:43.185964Z",
     "start_time": "2020-07-11T04:53:42.741856Z"
    }
   },
   "outputs": [],
   "source": [
    "soup = BeautifulSoup(driver.page_source, 'lxml')"
   ]
  },
  {
   "cell_type": "code",
   "execution_count": 210,
   "metadata": {
    "ExecuteTime": {
     "end_time": "2020-07-11T04:53:43.988829Z",
     "start_time": "2020-07-11T04:53:43.969937Z"
    }
   },
   "outputs": [],
   "source": [
    "#regex credit: Brian Balzar from stackoverflow\n",
    "#https://stackoverflow.com/questions/53014806/using-regex-to-extract-from-second-period-to-end-of-a-string\n",
    "import re\n",
    "\n",
    "headers_html = soup.find_all('th')\n",
    "header = []\n",
    "for item in table_headers:\n",
    "    string = item.text\n",
    "    try:\n",
    "        subject = re.match('^([^.]+)\\.([^.]+)\\.(.+)$', string).group(3)\n",
    "        subject = subject.replace('.', '_')\n",
    "    except:\n",
    "        subject = string\n",
    "    header.append(subject)"
   ]
  },
  {
   "cell_type": "code",
   "execution_count": 211,
   "metadata": {
    "ExecuteTime": {
     "end_time": "2020-07-11T04:53:45.164176Z",
     "start_time": "2020-07-11T04:53:44.900726Z"
    }
   },
   "outputs": [],
   "source": [
    "#reading the table\n",
    "table = soup.find('table')\n",
    "rows = [row for row in table.find_all('tr')][1:]\n",
    "\n",
    "data = []\n",
    "for row in rows:\n",
    "    row_data = defaultdict()\n",
    "    for i in range(len(header)):\n",
    "        row_data[header[i]] = row.find_all('td')[i].text\n",
    "    data.append(row_data)"
   ]
  },
  {
   "cell_type": "code",
   "execution_count": 213,
   "metadata": {
    "ExecuteTime": {
     "end_time": "2020-07-11T04:53:54.934401Z",
     "start_time": "2020-07-11T04:53:54.924658Z"
    }
   },
   "outputs": [],
   "source": [
    "import csv\n",
    "with open('2013-12-30-wfb.csv', 'w', newline='') as write_obj:\n",
    "    # create writer object\n",
    "    dict_writer = csv.DictWriter(write_obj, fieldnames=header)\n",
    "    dict_writer.writeheader()\n",
    "    dict_writer.writerows(data)"
   ]
  },
  {
   "cell_type": "code",
   "execution_count": null,
   "metadata": {},
   "outputs": [],
   "source": []
  },
  {
   "cell_type": "code",
   "execution_count": null,
   "metadata": {},
   "outputs": [],
   "source": []
  },
  {
   "cell_type": "code",
   "execution_count": null,
   "metadata": {},
   "outputs": [],
   "source": []
  },
  {
   "cell_type": "code",
   "execution_count": 214,
   "metadata": {
    "ExecuteTime": {
     "end_time": "2020-07-11T04:54:09.182018Z",
     "start_time": "2020-07-11T04:54:09.054915Z"
    }
   },
   "outputs": [
    {
     "data": {
      "text/html": [
       "<div>\n",
       "<style scoped>\n",
       "    .dataframe tbody tr th:only-of-type {\n",
       "        vertical-align: middle;\n",
       "    }\n",
       "\n",
       "    .dataframe tbody tr th {\n",
       "        vertical-align: top;\n",
       "    }\n",
       "\n",
       "    .dataframe thead th {\n",
       "        text-align: right;\n",
       "    }\n",
       "</style>\n",
       "<table border=\"1\" class=\"dataframe\">\n",
       "  <thead>\n",
       "    <tr style=\"text-align: right;\">\n",
       "      <th></th>\n",
       "      <th>country</th>\n",
       "      <th>budget_date</th>\n",
       "      <th>budget_expenditures_units</th>\n",
       "      <th>budget_expenditures_value</th>\n",
       "      <th>budget_revenues_units</th>\n",
       "      <th>budget_revenues_value</th>\n",
       "      <th>budget_surplus_or_deficit_date</th>\n",
       "      <th>budget_surplus_or_deficit_percent_of_gdp</th>\n",
       "      <th>exports_partners_by_country</th>\n",
       "      <th>exports_partners_date</th>\n",
       "      <th>...</th>\n",
       "      <th>electricity_by_source_fossil_fuels_date</th>\n",
       "      <th>electricity_by_source_fossil_fuels_percent</th>\n",
       "      <th>electricity_by_source_hydroelectric_plants_date</th>\n",
       "      <th>electricity_by_source_hydroelectric_plants_percent</th>\n",
       "      <th>electricity_by_source_nuclear_fuels_date</th>\n",
       "      <th>electricity_by_source_nuclear_fuels_percent</th>\n",
       "      <th>electricity_by_source_other_renewable_sources_date</th>\n",
       "      <th>electricity_by_source_other_renewable_sources_percent</th>\n",
       "      <th>literacy_total_population_value</th>\n",
       "      <th>population_total</th>\n",
       "    </tr>\n",
       "  </thead>\n",
       "  <tbody>\n",
       "    <tr>\n",
       "      <th>0</th>\n",
       "      <td>World</td>\n",
       "      <td>2012.0</td>\n",
       "      <td>USD</td>\n",
       "      <td>23,380,000,000,000</td>\n",
       "      <td>USD</td>\n",
       "      <td>20,690,000,000,000</td>\n",
       "      <td>2012.0</td>\n",
       "      <td>-3.8</td>\n",
       "      <td>NaN</td>\n",
       "      <td>NaN</td>\n",
       "      <td>...</td>\n",
       "      <td>2009.0</td>\n",
       "      <td>66.6</td>\n",
       "      <td>2009.0</td>\n",
       "      <td>18.5</td>\n",
       "      <td>2009.0</td>\n",
       "      <td>7.9</td>\n",
       "      <td>2009.0</td>\n",
       "      <td>4.9</td>\n",
       "      <td>84.1</td>\n",
       "      <td>7,095,217,980</td>\n",
       "    </tr>\n",
       "    <tr>\n",
       "      <th>1</th>\n",
       "      <td>Afghanistan</td>\n",
       "      <td>2012.0</td>\n",
       "      <td>USD</td>\n",
       "      <td>3,974,000,000</td>\n",
       "      <td>USD</td>\n",
       "      <td>2,249,000,000</td>\n",
       "      <td>2012.0</td>\n",
       "      <td>-8.7</td>\n",
       "      <td>[{\"name\":\"Pakistan\",\"percent\":33.1},{\"name\":\"I...</td>\n",
       "      <td>2012.0</td>\n",
       "      <td>...</td>\n",
       "      <td>2009.0</td>\n",
       "      <td>23.5</td>\n",
       "      <td>2009.0</td>\n",
       "      <td>76.5</td>\n",
       "      <td>2009.0</td>\n",
       "      <td>0.0</td>\n",
       "      <td>2009.0</td>\n",
       "      <td>0.0</td>\n",
       "      <td>28.1</td>\n",
       "      <td>31,108,077</td>\n",
       "    </tr>\n",
       "    <tr>\n",
       "      <th>2</th>\n",
       "      <td>Akrotiri</td>\n",
       "      <td>NaN</td>\n",
       "      <td>NaN</td>\n",
       "      <td>NaN</td>\n",
       "      <td>NaN</td>\n",
       "      <td>NaN</td>\n",
       "      <td>NaN</td>\n",
       "      <td>NaN</td>\n",
       "      <td>NaN</td>\n",
       "      <td>NaN</td>\n",
       "      <td>...</td>\n",
       "      <td>NaN</td>\n",
       "      <td>NaN</td>\n",
       "      <td>NaN</td>\n",
       "      <td>NaN</td>\n",
       "      <td>NaN</td>\n",
       "      <td>NaN</td>\n",
       "      <td>NaN</td>\n",
       "      <td>NaN</td>\n",
       "      <td>NaN</td>\n",
       "      <td>15,700</td>\n",
       "    </tr>\n",
       "    <tr>\n",
       "      <th>3</th>\n",
       "      <td>Albania</td>\n",
       "      <td>2012.0</td>\n",
       "      <td>USD</td>\n",
       "      <td>3,477,000,000</td>\n",
       "      <td>USD</td>\n",
       "      <td>3,054,000,000</td>\n",
       "      <td>2012.0</td>\n",
       "      <td>-3.3</td>\n",
       "      <td>[{\"name\":\"Italy\",\"percent\":44.2},{\"name\":\"Spai...</td>\n",
       "      <td>2012.0</td>\n",
       "      <td>...</td>\n",
       "      <td>2009.0</td>\n",
       "      <td>9.9</td>\n",
       "      <td>2009.0</td>\n",
       "      <td>90.1</td>\n",
       "      <td>2009.0</td>\n",
       "      <td>0.0</td>\n",
       "      <td>2009.0</td>\n",
       "      <td>0.0</td>\n",
       "      <td>96.8</td>\n",
       "      <td>3,011,405</td>\n",
       "    </tr>\n",
       "    <tr>\n",
       "      <th>4</th>\n",
       "      <td>Algeria</td>\n",
       "      <td>2012.0</td>\n",
       "      <td>USD</td>\n",
       "      <td>84,820,000,000</td>\n",
       "      <td>USD</td>\n",
       "      <td>81,230,000,000</td>\n",
       "      <td>2012.0</td>\n",
       "      <td>-1.7</td>\n",
       "      <td>[{\"name\":\"US\",\"percent\":16.1},{\"name\":\"Spain\",...</td>\n",
       "      <td>2012.0</td>\n",
       "      <td>...</td>\n",
       "      <td>2009.0</td>\n",
       "      <td>97.3</td>\n",
       "      <td>2009.0</td>\n",
       "      <td>2.7</td>\n",
       "      <td>2009.0</td>\n",
       "      <td>0.0</td>\n",
       "      <td>2009.0</td>\n",
       "      <td>0.0</td>\n",
       "      <td>72.6</td>\n",
       "      <td>38,087,812</td>\n",
       "    </tr>\n",
       "    <tr>\n",
       "      <th>...</th>\n",
       "      <td>...</td>\n",
       "      <td>...</td>\n",
       "      <td>...</td>\n",
       "      <td>...</td>\n",
       "      <td>...</td>\n",
       "      <td>...</td>\n",
       "      <td>...</td>\n",
       "      <td>...</td>\n",
       "      <td>...</td>\n",
       "      <td>...</td>\n",
       "      <td>...</td>\n",
       "      <td>...</td>\n",
       "      <td>...</td>\n",
       "      <td>...</td>\n",
       "      <td>...</td>\n",
       "      <td>...</td>\n",
       "      <td>...</td>\n",
       "      <td>...</td>\n",
       "      <td>...</td>\n",
       "      <td>...</td>\n",
       "      <td>...</td>\n",
       "    </tr>\n",
       "    <tr>\n",
       "      <th>254</th>\n",
       "      <td>Western Sahara</td>\n",
       "      <td>NaN</td>\n",
       "      <td>NaN</td>\n",
       "      <td>NaN</td>\n",
       "      <td>NaN</td>\n",
       "      <td>NaN</td>\n",
       "      <td>NaN</td>\n",
       "      <td>NaN</td>\n",
       "      <td>NaN</td>\n",
       "      <td>NaN</td>\n",
       "      <td>...</td>\n",
       "      <td>2009.0</td>\n",
       "      <td>100.0</td>\n",
       "      <td>2009.0</td>\n",
       "      <td>0.0</td>\n",
       "      <td>2009.0</td>\n",
       "      <td>0.0</td>\n",
       "      <td>2009.0</td>\n",
       "      <td>0.0</td>\n",
       "      <td>NaN</td>\n",
       "      <td>538,811</td>\n",
       "    </tr>\n",
       "    <tr>\n",
       "      <th>255</th>\n",
       "      <td>Yemen</td>\n",
       "      <td>2012.0</td>\n",
       "      <td>USD</td>\n",
       "      <td>10,970,000,000</td>\n",
       "      <td>USD</td>\n",
       "      <td>8,461,000,000</td>\n",
       "      <td>2012.0</td>\n",
       "      <td>-7.0</td>\n",
       "      <td>[{\"name\":\"China\",\"percent\":37.2},{\"name\":\"Thai...</td>\n",
       "      <td>2012.0</td>\n",
       "      <td>...</td>\n",
       "      <td>2010.0</td>\n",
       "      <td>100.0</td>\n",
       "      <td>2010.0</td>\n",
       "      <td>0.0</td>\n",
       "      <td>2010.0</td>\n",
       "      <td>0.0</td>\n",
       "      <td>2010.0</td>\n",
       "      <td>0.0</td>\n",
       "      <td>65.3</td>\n",
       "      <td>25,408,288</td>\n",
       "    </tr>\n",
       "    <tr>\n",
       "      <th>256</th>\n",
       "      <td>Zambia</td>\n",
       "      <td>2012.0</td>\n",
       "      <td>USD</td>\n",
       "      <td>5,256,000,000</td>\n",
       "      <td>USD</td>\n",
       "      <td>4,256,000,000</td>\n",
       "      <td>2012.0</td>\n",
       "      <td>-4.9</td>\n",
       "      <td>[{\"name\":\"China\",\"percent\":42.2},{\"name\":\"Sout...</td>\n",
       "      <td>2012.0</td>\n",
       "      <td>...</td>\n",
       "      <td>2009.0</td>\n",
       "      <td>0.4</td>\n",
       "      <td>2009.0</td>\n",
       "      <td>99.6</td>\n",
       "      <td>2009.0</td>\n",
       "      <td>0.0</td>\n",
       "      <td>2009.0</td>\n",
       "      <td>0.0</td>\n",
       "      <td>61.4</td>\n",
       "      <td>14,222,233</td>\n",
       "    </tr>\n",
       "    <tr>\n",
       "      <th>257</th>\n",
       "      <td>Zimbabwe</td>\n",
       "      <td>NaN</td>\n",
       "      <td>NaN</td>\n",
       "      <td>NaN</td>\n",
       "      <td>NaN</td>\n",
       "      <td>NaN</td>\n",
       "      <td>NaN</td>\n",
       "      <td>NaN</td>\n",
       "      <td>[{\"name\":\"China\",\"percent\":20.4},{\"name\":\"Sout...</td>\n",
       "      <td>2012.0</td>\n",
       "      <td>...</td>\n",
       "      <td>2009.0</td>\n",
       "      <td>66.1</td>\n",
       "      <td>2009.0</td>\n",
       "      <td>33.9</td>\n",
       "      <td>2009.0</td>\n",
       "      <td>0.0</td>\n",
       "      <td>2009.0</td>\n",
       "      <td>0.0</td>\n",
       "      <td>83.6</td>\n",
       "      <td>13,182,908</td>\n",
       "    </tr>\n",
       "    <tr>\n",
       "      <th>258</th>\n",
       "      <td>European Union</td>\n",
       "      <td>NaN</td>\n",
       "      <td>NaN</td>\n",
       "      <td>NaN</td>\n",
       "      <td>NaN</td>\n",
       "      <td>NaN</td>\n",
       "      <td>NaN</td>\n",
       "      <td>NaN</td>\n",
       "      <td>NaN</td>\n",
       "      <td>NaN</td>\n",
       "      <td>...</td>\n",
       "      <td>NaN</td>\n",
       "      <td>NaN</td>\n",
       "      <td>NaN</td>\n",
       "      <td>NaN</td>\n",
       "      <td>NaN</td>\n",
       "      <td>NaN</td>\n",
       "      <td>NaN</td>\n",
       "      <td>NaN</td>\n",
       "      <td>NaN</td>\n",
       "      <td>509,365,627</td>\n",
       "    </tr>\n",
       "  </tbody>\n",
       "</table>\n",
       "<p>259 rows × 31 columns</p>\n",
       "</div>"
      ],
      "text/plain": [
       "            country  budget_date budget_expenditures_units  \\\n",
       "0             World       2012.0                       USD   \n",
       "1       Afghanistan       2012.0                       USD   \n",
       "2          Akrotiri          NaN                       NaN   \n",
       "3           Albania       2012.0                       USD   \n",
       "4           Algeria       2012.0                       USD   \n",
       "..              ...          ...                       ...   \n",
       "254  Western Sahara          NaN                       NaN   \n",
       "255           Yemen       2012.0                       USD   \n",
       "256          Zambia       2012.0                       USD   \n",
       "257        Zimbabwe          NaN                       NaN   \n",
       "258  European Union          NaN                       NaN   \n",
       "\n",
       "    budget_expenditures_value budget_revenues_units budget_revenues_value  \\\n",
       "0          23,380,000,000,000                   USD    20,690,000,000,000   \n",
       "1               3,974,000,000                   USD         2,249,000,000   \n",
       "2                         NaN                   NaN                   NaN   \n",
       "3               3,477,000,000                   USD         3,054,000,000   \n",
       "4              84,820,000,000                   USD        81,230,000,000   \n",
       "..                        ...                   ...                   ...   \n",
       "254                       NaN                   NaN                   NaN   \n",
       "255            10,970,000,000                   USD         8,461,000,000   \n",
       "256             5,256,000,000                   USD         4,256,000,000   \n",
       "257                       NaN                   NaN                   NaN   \n",
       "258                       NaN                   NaN                   NaN   \n",
       "\n",
       "     budget_surplus_or_deficit_date  budget_surplus_or_deficit_percent_of_gdp  \\\n",
       "0                            2012.0                                      -3.8   \n",
       "1                            2012.0                                      -8.7   \n",
       "2                               NaN                                       NaN   \n",
       "3                            2012.0                                      -3.3   \n",
       "4                            2012.0                                      -1.7   \n",
       "..                              ...                                       ...   \n",
       "254                             NaN                                       NaN   \n",
       "255                          2012.0                                      -7.0   \n",
       "256                          2012.0                                      -4.9   \n",
       "257                             NaN                                       NaN   \n",
       "258                             NaN                                       NaN   \n",
       "\n",
       "                           exports_partners_by_country  exports_partners_date  \\\n",
       "0                                                  NaN                    NaN   \n",
       "1    [{\"name\":\"Pakistan\",\"percent\":33.1},{\"name\":\"I...                 2012.0   \n",
       "2                                                  NaN                    NaN   \n",
       "3    [{\"name\":\"Italy\",\"percent\":44.2},{\"name\":\"Spai...                 2012.0   \n",
       "4    [{\"name\":\"US\",\"percent\":16.1},{\"name\":\"Spain\",...                 2012.0   \n",
       "..                                                 ...                    ...   \n",
       "254                                                NaN                    NaN   \n",
       "255  [{\"name\":\"China\",\"percent\":37.2},{\"name\":\"Thai...                 2012.0   \n",
       "256  [{\"name\":\"China\",\"percent\":42.2},{\"name\":\"Sout...                 2012.0   \n",
       "257  [{\"name\":\"China\",\"percent\":20.4},{\"name\":\"Sout...                 2012.0   \n",
       "258                                                NaN                    NaN   \n",
       "\n",
       "     ...  electricity_by_source_fossil_fuels_date  \\\n",
       "0    ...                                   2009.0   \n",
       "1    ...                                   2009.0   \n",
       "2    ...                                      NaN   \n",
       "3    ...                                   2009.0   \n",
       "4    ...                                   2009.0   \n",
       "..   ...                                      ...   \n",
       "254  ...                                   2009.0   \n",
       "255  ...                                   2010.0   \n",
       "256  ...                                   2009.0   \n",
       "257  ...                                   2009.0   \n",
       "258  ...                                      NaN   \n",
       "\n",
       "    electricity_by_source_fossil_fuels_percent  \\\n",
       "0                                         66.6   \n",
       "1                                         23.5   \n",
       "2                                          NaN   \n",
       "3                                          9.9   \n",
       "4                                         97.3   \n",
       "..                                         ...   \n",
       "254                                      100.0   \n",
       "255                                      100.0   \n",
       "256                                        0.4   \n",
       "257                                       66.1   \n",
       "258                                        NaN   \n",
       "\n",
       "     electricity_by_source_hydroelectric_plants_date  \\\n",
       "0                                             2009.0   \n",
       "1                                             2009.0   \n",
       "2                                                NaN   \n",
       "3                                             2009.0   \n",
       "4                                             2009.0   \n",
       "..                                               ...   \n",
       "254                                           2009.0   \n",
       "255                                           2010.0   \n",
       "256                                           2009.0   \n",
       "257                                           2009.0   \n",
       "258                                              NaN   \n",
       "\n",
       "     electricity_by_source_hydroelectric_plants_percent  \\\n",
       "0                                                 18.5    \n",
       "1                                                 76.5    \n",
       "2                                                  NaN    \n",
       "3                                                 90.1    \n",
       "4                                                  2.7    \n",
       "..                                                 ...    \n",
       "254                                                0.0    \n",
       "255                                                0.0    \n",
       "256                                               99.6    \n",
       "257                                               33.9    \n",
       "258                                                NaN    \n",
       "\n",
       "    electricity_by_source_nuclear_fuels_date  \\\n",
       "0                                     2009.0   \n",
       "1                                     2009.0   \n",
       "2                                        NaN   \n",
       "3                                     2009.0   \n",
       "4                                     2009.0   \n",
       "..                                       ...   \n",
       "254                                   2009.0   \n",
       "255                                   2010.0   \n",
       "256                                   2009.0   \n",
       "257                                   2009.0   \n",
       "258                                      NaN   \n",
       "\n",
       "     electricity_by_source_nuclear_fuels_percent  \\\n",
       "0                                            7.9   \n",
       "1                                            0.0   \n",
       "2                                            NaN   \n",
       "3                                            0.0   \n",
       "4                                            0.0   \n",
       "..                                           ...   \n",
       "254                                          0.0   \n",
       "255                                          0.0   \n",
       "256                                          0.0   \n",
       "257                                          0.0   \n",
       "258                                          NaN   \n",
       "\n",
       "    electricity_by_source_other_renewable_sources_date  \\\n",
       "0                                               2009.0   \n",
       "1                                               2009.0   \n",
       "2                                                  NaN   \n",
       "3                                               2009.0   \n",
       "4                                               2009.0   \n",
       "..                                                 ...   \n",
       "254                                             2009.0   \n",
       "255                                             2010.0   \n",
       "256                                             2009.0   \n",
       "257                                             2009.0   \n",
       "258                                                NaN   \n",
       "\n",
       "     electricity_by_source_other_renewable_sources_percent  \\\n",
       "0                                                  4.9       \n",
       "1                                                  0.0       \n",
       "2                                                  NaN       \n",
       "3                                                  0.0       \n",
       "4                                                  0.0       \n",
       "..                                                 ...       \n",
       "254                                                0.0       \n",
       "255                                                0.0       \n",
       "256                                                0.0       \n",
       "257                                                0.0       \n",
       "258                                                NaN       \n",
       "\n",
       "     literacy_total_population_value  population_total  \n",
       "0                               84.1     7,095,217,980  \n",
       "1                               28.1        31,108,077  \n",
       "2                                NaN            15,700  \n",
       "3                               96.8         3,011,405  \n",
       "4                               72.6        38,087,812  \n",
       "..                               ...               ...  \n",
       "254                              NaN           538,811  \n",
       "255                             65.3        25,408,288  \n",
       "256                             61.4        14,222,233  \n",
       "257                             83.6        13,182,908  \n",
       "258                              NaN       509,365,627  \n",
       "\n",
       "[259 rows x 31 columns]"
      ]
     },
     "execution_count": 214,
     "metadata": {},
     "output_type": "execute_result"
    }
   ],
   "source": [
    "#validate\n",
    "import pandas as pd\n",
    "pd.read_csv('2013-12-30-wfb.csv')"
   ]
  },
  {
   "cell_type": "code",
   "execution_count": null,
   "metadata": {},
   "outputs": [],
   "source": []
  },
  {
   "cell_type": "code",
   "execution_count": 154,
   "metadata": {
    "ExecuteTime": {
     "end_time": "2020-07-11T04:12:44.239034Z",
     "start_time": "2020-07-11T04:12:44.232770Z"
    }
   },
   "outputs": [
    {
     "data": {
      "text/plain": [
       "259"
      ]
     },
     "execution_count": 154,
     "metadata": {},
     "output_type": "execute_result"
    }
   ],
   "source": []
  },
  {
   "cell_type": "code",
   "execution_count": null,
   "metadata": {},
   "outputs": [],
   "source": []
  },
  {
   "cell_type": "code",
   "execution_count": null,
   "metadata": {},
   "outputs": [],
   "source": []
  },
  {
   "cell_type": "code",
   "execution_count": 215,
   "metadata": {
    "ExecuteTime": {
     "end_time": "2020-07-11T04:54:19.632209Z",
     "start_time": "2020-07-11T04:54:19.456587Z"
    }
   },
   "outputs": [],
   "source": [
    "driver.close()"
   ]
  },
  {
   "cell_type": "code",
   "execution_count": 216,
   "metadata": {
    "ExecuteTime": {
     "end_time": "2020-07-11T04:54:20.743308Z",
     "start_time": "2020-07-11T04:54:20.735369Z"
    }
   },
   "outputs": [
    {
     "data": {
      "text/plain": [
       "'/Users/emilyng/Documents/chi20_ds15/curriculum/project-02/2020-05-04_factbook.json'"
      ]
     },
     "execution_count": 216,
     "metadata": {},
     "output_type": "execute_result"
    }
   ],
   "source": [
    "os.path.abspath('2020-05-04_factbook.json')"
   ]
  },
  {
   "cell_type": "code",
   "execution_count": null,
   "metadata": {},
   "outputs": [],
   "source": [
    "file = "
   ]
  }
 ],
 "metadata": {
  "kernelspec": {
   "display_name": "Python [conda env:metis] *",
   "language": "python",
   "name": "conda-env-metis-py"
  },
  "language_info": {
   "codemirror_mode": {
    "name": "ipython",
    "version": 3
   },
   "file_extension": ".py",
   "mimetype": "text/x-python",
   "name": "python",
   "nbconvert_exporter": "python",
   "pygments_lexer": "ipython3",
   "version": "3.8.3"
  },
  "toc": {
   "base_numbering": 1,
   "nav_menu": {},
   "number_sections": true,
   "sideBar": true,
   "skip_h1_title": false,
   "title_cell": "Table of Contents",
   "title_sidebar": "Contents",
   "toc_cell": false,
   "toc_position": {},
   "toc_section_display": true,
   "toc_window_display": false
  }
 },
 "nbformat": 4,
 "nbformat_minor": 4
}
